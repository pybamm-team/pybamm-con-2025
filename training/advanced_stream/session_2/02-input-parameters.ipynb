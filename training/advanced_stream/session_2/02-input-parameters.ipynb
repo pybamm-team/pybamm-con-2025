{
 "cells": [
  {
   "cell_type": "markdown",
   "metadata": {},
   "source": [
    "## Using Input Parameters to efficiently re-run simulations with different parameters\n",
    "\n",
    "In PyBaMM, you can use the `pybamm.Simulation` class to efficiently run simulations. Recall the pipeline is:\n",
    "\n",
    "1. Parameter replacement\n",
    "2. Discretisation\n",
    "3. Solver setup\n",
    "4. Solver solve\n",
    "5. Post-processing\n",
    "\n",
    "An obvious question is how can we efficiently re-run simulations with different parameters (step 1 in the pipeline)? Ideally we'd like to do this without having to re-build the model and discretisation each time, which as we've seen is a costly process."
   ]
  },
  {
   "cell_type": "code",
   "execution_count": 17,
   "metadata": {},
   "outputs": [],
   "source": [
    "import pybamm\n",
    "import numpy as np\n",
    "import time"
   ]
  },
  {
   "cell_type": "markdown",
   "metadata": {},
   "source": [
    "\n",
    "## Using Input Parameters\n",
    "\n",
    "The answer is to use input parameters and the [`pybamm.InputParameter`](https://docs.pybamm.org/en/stable/source/api/parameters/input_parameters.html#pybamm.InputParameter) class. Input parameters are a special type of parameter that is *not* replaced by a value during step 1 of the pipeline, and can be used to replace many of the parameters in the model (as we'll see later this does not apply to some geometric parameters). \n",
    "\n",
    "If you use the `pybamm.ParameterVariables` class to set the parameters of your model, you can set any parameter in the model to be an input parameter by updating its parameter value to be the string `[input]`. For example, to set the current in the SPM model to be an input parameter, you can do the following:"
   ]
  },
  {
   "cell_type": "code",
   "execution_count": 18,
   "metadata": {},
   "outputs": [],
   "source": [
    "model = pybamm.lithium_ion.SPM()\n",
    "parameter_values = model.default_parameter_values\n",
    "parameter_values[\"Current function [A]\"] = \"[input]\""
   ]
  },
  {
   "cell_type": "markdown",
   "metadata": {},
   "source": [
    "\n",
    "If you are building up a model from scratch, you can also use `pybamm.InputParameter` directly to create an input parameter. For example, the code below creates an exponential decay model with a decay constant as an input parameter:"
   ]
  },
  {
   "cell_type": "code",
   "execution_count": 19,
   "metadata": {},
   "outputs": [],
   "source": [
    "model = pybamm.BaseModel()\n",
    "k = pybamm.InputParameter(\"k\")\n",
    "x = pybamm.Variable(\"x\")\n",
    "model.rhs = {x: -k * x}"
   ]
  },
  {
   "cell_type": "markdown",
   "metadata": {},
   "source": [
    "## Example\n",
    "\n",
    "Let's see how we can use input parameters to efficiently re-run simulations with different parameters. We'll start with a script that loops over the current to solve the model, and then show how we can use input parameters to do this more efficiently."
   ]
  },
  {
   "cell_type": "code",
   "execution_count": 20,
   "metadata": {},
   "outputs": [
    {
     "name": "stdout",
     "output_type": "stream",
     "text": [
      "Average time taken: 0.090 seconds\n"
     ]
    }
   ],
   "source": [
    "\n",
    "total_time = 0\n",
    "n = 10\n",
    "model = pybamm.lithium_ion.SPM()\n",
    "solver = pybamm.IDAKLUSolver()\n",
    "params = model.default_parameter_values\n",
    "for current in np.linspace(-1.1, 1.0, n):\n",
    "    time_start = time.perf_counter()\n",
    "    params[\"Current function [A]\"] = current\n",
    "    sim = pybamm.Simulation(model, solver=solver, parameter_values=params)\n",
    "    sol = sim.solve([0, 3600])\n",
    "    t_evals = np.linspace(0, 3600, 100)\n",
    "    voltage = sol[\"Terminal voltage [V]\"](t_evals)\n",
    "    time_end = time.perf_counter()\n",
    "    total_time += time_end - time_start\n",
    "print(f\"Average time taken: {total_time / n:.3f} seconds\")"
   ]
  },
  {
   "cell_type": "markdown",
   "metadata": {},
   "source": [
    "The most important thing to note about this script is that we are creating the simulation object on every iteration of this loop. This means we are running though all the steps of the pipeline, rebuilding the model and performing the discretisations, at each iteration of the loop. We do this even though most of the structure of the model, and in particular the numerical discretisations of the spatial gradients, is unchanged. As we've seen previously, the discretisation step is often the most expensive part of the pipeline, so we'd like to avoid repeating it if possible.\n",
    "\n",
    "Now let's see how we will use input parameters to do this more efficiently. To do this we will move the simulation object creation outside of the loop, and use an input parameter for the current instead."
   ]
  },
  {
   "cell_type": "code",
   "execution_count": 21,
   "metadata": {},
   "outputs": [
    {
     "name": "stdout",
     "output_type": "stream",
     "text": [
      "Average time taken: 0.010 seconds\n"
     ]
    }
   ],
   "source": [
    "total_time = 0\n",
    "n = 10\n",
    "model = pybamm.lithium_ion.SPM()\n",
    "solver = pybamm.IDAKLUSolver()\n",
    "params = model.default_parameter_values\n",
    "params[\"Current function [A]\"] = \"[input]\"\n",
    "sim = pybamm.Simulation(model, solver=solver, parameter_values=params)\n",
    "for current in np.linspace(0.1, 1.0, n):\n",
    "    time_start = time.perf_counter()\n",
    "    sim.solve([0, 3600], inputs={\"Current function [A]\": current})\n",
    "    time_end = time.perf_counter()\n",
    "    total_time += time_end - time_start\n",
    "print(f\"Average time taken: {total_time / n:.3f} seconds\")"
   ]
  },
  {
   "cell_type": "markdown",
   "metadata": {},
   "source": [
    "You can see that we've improved the performance of our loop significantly by moving the creation of the simulation object outside of the loop, thus avoiding the need to rebuild the model from scratch at each iteration. \n"
   ]
  },
  {
   "cell_type": "markdown",
   "metadata": {},
   "source": [
    "## Limitations\n",
    "\n",
    "### Increased solve time\n",
    "\n",
    "It is interesting to compare the time taken to solve the model with an input parameter to the time taken to solve the original model. There is a good reason why step 1 of the pipeline replaces parameters with values: this allows PyBaMM to simplify the equations significantly by combining terms and performing operations between values, rather than between symbols. E.g. if your model has parameters `a` and `b` and has the equation `a*b` somewhere in the model, if both `a` and `b` are replaced by values, PyBaMM can simplify this to `c`, where `c = a*b`. If either `a` or `b` is an input parameter, PyBaMM cannot simplify this equation, and will have to evaluate `a*b` at each time step of the simulation. \n"
   ]
  },
  {
   "cell_type": "code",
   "execution_count": 22,
   "metadata": {},
   "outputs": [
    {
     "name": "stdout",
     "output_type": "stream",
     "text": [
      "Time taken without input parameter: 0.0013 seconds\n",
      "Time taken with input parameter: 0.0023 seconds\n"
     ]
    }
   ],
   "source": [
    "model = pybamm.lithium_ion.SPM()\n",
    "solver = pybamm.IDAKLUSolver()\n",
    "sim = pybamm.Simulation(model, solver=solver)\n",
    "sol = sim.solve([0, 3600])\n",
    "start_time = time.perf_counter()\n",
    "sol = sim.solve([0, 3600])\n",
    "end_time = time.perf_counter()\n",
    "print(f\"Time taken without input parameter: {end_time - start_time:.4f} seconds\")\n",
    "\n",
    "\n",
    "model = pybamm.lithium_ion.SPM()\n",
    "solver = pybamm.IDAKLUSolver()\n",
    "params = model.default_parameter_values\n",
    "params[\"Current function [A]\"] = \"[input]\"\n",
    "sim = pybamm.Simulation(model, solver=solver, parameter_values=params)\n",
    "sol = sim.solve([0, 3600], inputs={\"Current function [A]\": 1.0})\n",
    "start_time = time.perf_counter()\n",
    "sol = sim.solve([0, 3600], inputs={\"Current function [A]\": 1.0})\n",
    "end_time = time.perf_counter()\n",
    "print(f\"Time taken with input parameter: {end_time - start_time:.4f} seconds\")"
   ]
  },
  {
   "cell_type": "markdown",
   "metadata": {},
   "source": [
    "So you can see that input parameters come with a cost: they are useful to avoid having to re-build your model each time you want to change a parameter, but they also produce a set of final equations that are more complex and take longer to solve. You should still use input parameters when you need to re-run simulations with different parameters, after all the time taken to perform the discretisation is often much longer than the time taken to solve the model. However, you should be aware that using input parameters will slow down the simulation, and you should be careful to only use them where necessary."
   ]
  },
  {
   "cell_type": "markdown",
   "metadata": {},
   "source": [
    "\n",
    "\n",
    "### Geometric parameters cannot be input parameters (using the default mesh)\n",
    "\n",
    "Input parameters cannot be used for parameters that are used during the descretisation step. These are generally parameters affecting the geometry, such as the electrode or separator thicknesses. If you try to use an input parameter for a parameter that affects the discretisation, you will get an error, most likely during the discretisation step. For example, these are the parameters that fail for the SPM model, along with the error messages:"
   ]
  },
  {
   "cell_type": "code",
   "execution_count": 23,
   "metadata": {},
   "outputs": [
    {
     "name": "stdout",
     "output_type": "stream",
     "text": [
      "Failed for parameter Negative electrode thickness [m]. Error was Cannot interpret 'InputParameter(-0x126a89e19f8829d7, Negative electrode thickness [m], children=[], domains={})' as a data type\n",
      "Traceback (most recent call last):\n",
      "  File \"/var/folders/kn/v6614yy91fq6tjmkj9hx7fc40000gn/T/ipykernel_16440/3514874421.py\", line 12, in <module>\n",
      "    sim.solve([0, 3600], inputs={param: original_param})\n",
      "  File \"/Users/robertwtimms/Documents/Code/pybamm-con-2025/env/lib/python3.11/site-packages/pybamm/simulation.py\", line 473, in solve\n",
      "    self.build(initial_soc=initial_soc, inputs=inputs)\n",
      "  File \"/Users/robertwtimms/Documents/Code/pybamm-con-2025/env/lib/python3.11/site-packages/pybamm/simulation.py\", line 344, in build\n",
      "    self._mesh = pybamm.Mesh(self._geometry, self._submesh_types, self._var_pts)\n",
      "                 ^^^^^^^^^^^^^^^^^^^^^^^^^^^^^^^^^^^^^^^^^^^^^^^^^^^^^^^^^^^^^^^\n",
      "  File \"/Users/robertwtimms/Documents/Code/pybamm-con-2025/env/lib/python3.11/site-packages/pybamm/meshes/meshes.py\", line 117, in __init__\n",
      "    self[domain] = submesh_types[domain](geometry[domain], submesh_pts[domain])\n",
      "                   ^^^^^^^^^^^^^^^^^^^^^^^^^^^^^^^^^^^^^^^^^^^^^^^^^^^^^^^^^^^^\n",
      "  File \"/Users/robertwtimms/Documents/Code/pybamm-con-2025/env/lib/python3.11/site-packages/pybamm/meshes/meshes.py\", line 301, in __call__\n",
      "    return self.submesh_type(lims, npts, **self.submesh_params)\n",
      "           ^^^^^^^^^^^^^^^^^^^^^^^^^^^^^^^^^^^^^^^^^^^^^^^^^^^^\n",
      "  File \"/Users/robertwtimms/Documents/Code/pybamm-con-2025/env/lib/python3.11/site-packages/pybamm/meshes/one_dimensional_submeshes.py\", line 130, in __init__\n",
      "    edges = np.linspace(spatial_lims[\"min\"], spatial_lims[\"max\"], npts + 1)\n",
      "            ^^^^^^^^^^^^^^^^^^^^^^^^^^^^^^^^^^^^^^^^^^^^^^^^^^^^^^^^^^^^^^^\n",
      "  File \"/Users/robertwtimms/Documents/Code/pybamm-con-2025/env/lib/python3.11/site-packages/numpy/core/function_base.py\", line 132, in linspace\n",
      "    dt = result_type(start, stop, float(num))\n",
      "         ^^^^^^^^^^^^^^^^^^^^^^^^^^^^^^^^^^^^\n",
      "TypeError: Cannot interpret 'InputParameter(-0x126a89e19f8829d7, Negative electrode thickness [m], children=[], domains={})' as a data type\n",
      "\n",
      "Failed for parameter Positive electrode thickness [m]. Error was Cannot interpret 'Addition(-0x1e20042b62c8a512, +, children=['0.000125', 'Positive electrode thickness [m]'], domains={})' as a data type\n",
      "Traceback (most recent call last):\n",
      "  File \"/var/folders/kn/v6614yy91fq6tjmkj9hx7fc40000gn/T/ipykernel_16440/3514874421.py\", line 12, in <module>\n",
      "    sim.solve([0, 3600], inputs={param: original_param})\n",
      "  File \"/Users/robertwtimms/Documents/Code/pybamm-con-2025/env/lib/python3.11/site-packages/pybamm/simulation.py\", line 473, in solve\n",
      "    self.build(initial_soc=initial_soc, inputs=inputs)\n",
      "  File \"/Users/robertwtimms/Documents/Code/pybamm-con-2025/env/lib/python3.11/site-packages/pybamm/simulation.py\", line 344, in build\n",
      "    self._mesh = pybamm.Mesh(self._geometry, self._submesh_types, self._var_pts)\n",
      "                 ^^^^^^^^^^^^^^^^^^^^^^^^^^^^^^^^^^^^^^^^^^^^^^^^^^^^^^^^^^^^^^^\n",
      "  File \"/Users/robertwtimms/Documents/Code/pybamm-con-2025/env/lib/python3.11/site-packages/pybamm/meshes/meshes.py\", line 117, in __init__\n",
      "    self[domain] = submesh_types[domain](geometry[domain], submesh_pts[domain])\n",
      "                   ^^^^^^^^^^^^^^^^^^^^^^^^^^^^^^^^^^^^^^^^^^^^^^^^^^^^^^^^^^^^\n",
      "  File \"/Users/robertwtimms/Documents/Code/pybamm-con-2025/env/lib/python3.11/site-packages/pybamm/meshes/meshes.py\", line 301, in __call__\n",
      "    return self.submesh_type(lims, npts, **self.submesh_params)\n",
      "           ^^^^^^^^^^^^^^^^^^^^^^^^^^^^^^^^^^^^^^^^^^^^^^^^^^^^\n",
      "  File \"/Users/robertwtimms/Documents/Code/pybamm-con-2025/env/lib/python3.11/site-packages/pybamm/meshes/one_dimensional_submeshes.py\", line 130, in __init__\n",
      "    edges = np.linspace(spatial_lims[\"min\"], spatial_lims[\"max\"], npts + 1)\n",
      "            ^^^^^^^^^^^^^^^^^^^^^^^^^^^^^^^^^^^^^^^^^^^^^^^^^^^^^^^^^^^^^^^\n",
      "  File \"/Users/robertwtimms/Documents/Code/pybamm-con-2025/env/lib/python3.11/site-packages/numpy/core/function_base.py\", line 132, in linspace\n",
      "    dt = result_type(start, stop, float(num))\n",
      "         ^^^^^^^^^^^^^^^^^^^^^^^^^^^^^^^^^^^^\n",
      "TypeError: Cannot interpret 'Addition(-0x1e20042b62c8a512, +, children=['0.000125', 'Positive electrode thickness [m]'], domains={})' as a data type\n",
      "\n",
      "Failed for parameter Separator thickness [m]. Error was Cannot interpret 'Addition(0x6c263f931179fcaf, +, children=['0.0001', 'Separator thickness [m]'], domains={})' as a data type\n",
      "Traceback (most recent call last):\n",
      "  File \"/var/folders/kn/v6614yy91fq6tjmkj9hx7fc40000gn/T/ipykernel_16440/3514874421.py\", line 12, in <module>\n",
      "    sim.solve([0, 3600], inputs={param: original_param})\n",
      "  File \"/Users/robertwtimms/Documents/Code/pybamm-con-2025/env/lib/python3.11/site-packages/pybamm/simulation.py\", line 473, in solve\n",
      "    self.build(initial_soc=initial_soc, inputs=inputs)\n",
      "  File \"/Users/robertwtimms/Documents/Code/pybamm-con-2025/env/lib/python3.11/site-packages/pybamm/simulation.py\", line 344, in build\n",
      "    self._mesh = pybamm.Mesh(self._geometry, self._submesh_types, self._var_pts)\n",
      "                 ^^^^^^^^^^^^^^^^^^^^^^^^^^^^^^^^^^^^^^^^^^^^^^^^^^^^^^^^^^^^^^^\n",
      "  File \"/Users/robertwtimms/Documents/Code/pybamm-con-2025/env/lib/python3.11/site-packages/pybamm/meshes/meshes.py\", line 117, in __init__\n",
      "    self[domain] = submesh_types[domain](geometry[domain], submesh_pts[domain])\n",
      "                   ^^^^^^^^^^^^^^^^^^^^^^^^^^^^^^^^^^^^^^^^^^^^^^^^^^^^^^^^^^^^\n",
      "  File \"/Users/robertwtimms/Documents/Code/pybamm-con-2025/env/lib/python3.11/site-packages/pybamm/meshes/meshes.py\", line 301, in __call__\n",
      "    return self.submesh_type(lims, npts, **self.submesh_params)\n",
      "           ^^^^^^^^^^^^^^^^^^^^^^^^^^^^^^^^^^^^^^^^^^^^^^^^^^^^\n",
      "  File \"/Users/robertwtimms/Documents/Code/pybamm-con-2025/env/lib/python3.11/site-packages/pybamm/meshes/one_dimensional_submeshes.py\", line 130, in __init__\n",
      "    edges = np.linspace(spatial_lims[\"min\"], spatial_lims[\"max\"], npts + 1)\n",
      "            ^^^^^^^^^^^^^^^^^^^^^^^^^^^^^^^^^^^^^^^^^^^^^^^^^^^^^^^^^^^^^^^\n",
      "  File \"/Users/robertwtimms/Documents/Code/pybamm-con-2025/env/lib/python3.11/site-packages/numpy/core/function_base.py\", line 132, in linspace\n",
      "    dt = result_type(start, stop, float(num))\n",
      "         ^^^^^^^^^^^^^^^^^^^^^^^^^^^^^^^^^^^^\n",
      "TypeError: Cannot interpret 'Addition(0x6c263f931179fcaf, +, children=['0.0001', 'Separator thickness [m]'], domains={})' as a data type\n",
      "\n"
     ]
    }
   ],
   "source": [
    "import traceback\n",
    "\n",
    "model = pybamm.lithium_ion.SPM()\n",
    "model_params = model.get_parameter_info()\n",
    "for param in model_params:\n",
    "    if model_params[param][1] == \"Parameter\":\n",
    "        params = model.default_parameter_values\n",
    "        original_param = params[param]\n",
    "        params[param] = \"[input]\"\n",
    "        sim = pybamm.Simulation(model, parameter_values=params)\n",
    "        try:\n",
    "            sim.solve([0, 3600], inputs={param: original_param})\n",
    "        except Exception as e:\n",
    "            print(f\"Failed for parameter {param}. Error was {e}\")\n",
    "            tb = traceback.format_exc()\n",
    "            print(tb)"
   ]
  }
 ],
 "metadata": {
  "kernelspec": {
   "display_name": "env",
   "language": "python",
   "name": "python3"
  },
  "language_info": {
   "codemirror_mode": {
    "name": "ipython",
    "version": 3
   },
   "file_extension": ".py",
   "mimetype": "text/x-python",
   "name": "python",
   "nbconvert_exporter": "python",
   "pygments_lexer": "ipython3",
   "version": "3.10.12"
  }
 },
 "nbformat": 4,
 "nbformat_minor": 2
}
